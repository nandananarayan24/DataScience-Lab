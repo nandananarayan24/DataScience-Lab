{
 "cells": [
  {
   "cell_type": "code",
   "execution_count": 19,
   "id": "97ae318e",
   "metadata": {},
   "outputs": [
    {
     "name": "stdout",
     "output_type": "stream",
     "text": [
      "Celsius value of 12 is -11.11111111111111\n",
      "Celsius value of 23 is -5.0\n",
      "Celsius value of 45 is 7.222222222222222\n",
      "Celsius value of 60 is 15.555555555555557\n",
      "Celsius value of 75 is 23.88888888888889\n"
     ]
    }
   ],
   "source": [
    "import numpy as np\n",
    "\n",
    "f=np.array([12,23,45,60,75])\n",
    "\n",
    "c=np.empty(len(f))\n",
    "\n",
    "for i in range(len(f)):\n",
    "    j=(f[i]-32)*(5/9)\n",
    "    c[i]=j\n",
    "    print(f'Celsius value of {f[i]} is {j}')\n"
   ]
  },
  {
   "cell_type": "code",
   "execution_count": 33,
   "id": "758dc41e",
   "metadata": {},
   "outputs": [
    {
     "name": "stdout",
     "output_type": "stream",
     "text": [
      "random array is: \n",
      "[ 310  355  339   14  466  898  671  883  314  983  483  210  166  588\n",
      "  703   15   18  979  508  107  945  962  383  681  852  986  201  863\n",
      "  304  588  306  696  887  552  455  221  520  655   77  969  776  769\n",
      "  414  680  983  962  285  748  312    8  822  676  130  289  517  847\n",
      "   68  854  939  179  829  521  259  784  803  332  480  594    9  431\n",
      "  807   32  407  550  261  262  153  680  302  554   42  950  761  929\n",
      "  443   48  274  185  970  802  954  531  175  931  972  164  640  549\n",
      "  388   60  435  683  292  513  218  450   91   10  440  179   91    1\n",
      "  464  884  833  492  778  415  929  157  524  825  553  751  339  605\n",
      "  429   73  773  581  507  753  474  816  184   36  510   69  870  127\n",
      "  728  906   92  452  605  199  770  497  506  959  739  148   70  566\n",
      "  644  105  523  870  234  555  690  115  126   21  249  165   81   84\n",
      "  506  491  218  150  253   96  794  287  409  388  661  173  530  776\n",
      "  109  244  430  320  763  355  344  522  268  882  154  236   51  781\n",
      "  701  116  190  895  121  110  476  443  867  789  193  810  493  579\n",
      "  433  931  604  704  877  816  210   23  646  956  147  159  180  710\n",
      "  160  855  105   46  260  676  251  239  568  861  680  510  212  322\n",
      "  705  132  864  906  371  989  374  721  454  399  852  320  498  823\n",
      "  518  679  915  482  456  336  689  179  658  417  338  749  695  956\n",
      "  455  725  160   78  787  516   49   66  776  682  407  377  423  635\n",
      "    0  990  266 1000  646  439  742  375  143  965  904  774  291  335\n",
      "  142  564  476  637  847  224   41  378  104  733  450  724  818  610\n",
      "  829  456  552  284  155  382  384  901  927  170  121  921   19  873\n",
      "  202   79  418  851  432  321  485  815  930  565  656  932  406  143\n",
      "  591  854  943   86  484  159  940   81    6   63   24  614  855  345\n",
      "  556  139   49  673  982  298  174  935  615  919  409  312  305  254\n",
      "  995   22  225  307  425  835  120  511    4  742  232  880  482  774\n",
      "  631  438  644  844  884  947  471  842  965  909  703  117  168  228\n",
      "  255  147  549  810  544   10  764  836  669  307  542  584  329  727\n",
      "  474  692   78  826   93  162   60  739  454  282  528  997  622  761\n",
      "  522  880  826  688  107  683  228  838  301  624  742  255  462  470\n",
      "  591  245  415  469  344   34  924  838  414  336  321  314  555  370\n",
      "  654  921  807  439  856  625  548  238  272  215  150  593  367  939\n",
      "  131  457  797  127  340  100  350  118  815  706  987  444  824  248\n",
      "  620  513 1000  490   68   78  212  228  229  935  934  901  137  474\n",
      "  149  596  331  600  931  417  228  452  988  101  635   95  285  488\n",
      "  679  991   48  897  267  395  353  342  505  773  228  309  381  542\n",
      "  332  629  338  680  783  709  112  936  650   88  154  552  900  312\n",
      "   56  136  254  195  926  859   47  785  316  205  231  293  253  607\n",
      "   12  411  613  138  945  311  815  199  832  744   57  921  866  353\n",
      "  129  107  600  369  790  458  501  723  955  450  103   72  728  562\n",
      "  730  627  265  436  698  314  727  752  102  842  190  472  290  615\n",
      "  609  434  994  590  670  494  693  881   92   44  112  924   84  466\n",
      "  395  207   34  951  570  579  185  291  928  237  461  690  158  252\n",
      "  130  164  845  788  867  334  803  784  207  155  768  296   88  812\n",
      "  945    8  871  212   35  715  257  216  885  912  959  345  443  252\n",
      "  357  928  626  787  157  239  498    1  999  589   72  910  553  524\n",
      "  607  413  642  349  234  595  279  465  991  110  544  657  555   20\n",
      "  465  224  330  565  174    2  731  825  319  825  826  712  277  916\n",
      "  565  461   18  603  722  295  679  544  827  763  971  329  263  808\n",
      "  998  428  126   95  287  657  986  461  955  142  326   23   46  381\n",
      "  115  771  499  238  229  405  308  726  952  263  970  926  249  506\n",
      "  916  975  327  175   60   72  765  748  775  348  937  582  894  973\n",
      "  380  242  153  748  442  897   91  592  322  107  129  602  134  428\n",
      "  717  502  914  169  500  141  499  158  989  672  133  913  828  114\n",
      "  738  267  135  554  855  579  837  552  481  754  806  908  373  368\n",
      "  140  902  576  109  391  598  748  720  935  861  917  872  334  361\n",
      "  508  975  221  339  879  902  635  491  107  510  903   74  132  704\n",
      "   47  844  494  564  453  757  542   23  935  324  740  148  618  814\n",
      "  904  563   93  854  438  464  809  260  928  711  299  269  976  615\n",
      "  314  442  320  255  482  667  778  880  780  953  873  771  381  708\n",
      "   72  657  795  715  496  385  708  510  867  489  805  486  495  217\n",
      "   97  675  731  909   37  845  980  360  787  764  292  180  523  663\n",
      "  149  657  591  316  841   52  685  663  885  264  319  641  336  290\n",
      "  828   72  275  460  201  487  805  827  974  130  675  172  866  889\n",
      "  527  535  810   28  847  584   55  589  417  554  880  358  975  734\n",
      "  529  904  187  377  364   48  304   51  943  539  886  990  919  539\n",
      "  408  846  249  653  114   81  971  632  591  783  282  539   18   48\n",
      "   39  204  901  438  205  871  560  359  549  447  248  336  619   25\n",
      "  899  373    6  995  321  824  462  730  914  689  193  176  206  788\n",
      "  607   21  779  540  436  132  228  130  707  967  367  875   65   39\n",
      "  161  782  952  505  907  712]\n",
      "average of the array: 500.297\n",
      "variance of the array: 86256.248791\n",
      "standard deviation of the array: 293.6941415673796\n"
     ]
    }
   ],
   "source": [
    "x=np.random.randint(0,1001,size=1000)\n",
    "print(f\"random array is: \\n{x}\")\n",
    "avg=np.average(x)\n",
    "print(f\"average of the array: {avg}\")\n",
    "var=np.var(x)\n",
    "print(f\"variance of the array: {var}\")\n",
    "sd=np.std(x)\n",
    "print(f\"standard deviation of the array: {sd}\")"
   ]
  },
  {
   "cell_type": "code",
   "execution_count": 35,
   "id": "8e611a30",
   "metadata": {},
   "outputs": [
    {
     "data": {
      "text/plain": [
       "array([0.52359878, 1.04719755, 1.57079633, 3.14159265])"
      ]
     },
     "execution_count": 35,
     "metadata": {},
     "output_type": "execute_result"
    }
   ],
   "source": [
    "a=np.array([30,60,90,180])\n",
    "np.radians(a)"
   ]
  },
  {
   "cell_type": "code",
   "execution_count": 36,
   "id": "557fa76f",
   "metadata": {},
   "outputs": [
    {
     "data": {
      "text/plain": [
       "array([-46, -21,   9,  -2,  52, -45])"
      ]
     },
     "execution_count": 36,
     "metadata": {},
     "output_type": "execute_result"
    }
   ],
   "source": [
    "b=np.array([77,31,10,19,17,69,24])\n",
    "dif=np.diff(b)\n",
    "dif"
   ]
  },
  {
   "cell_type": "code",
   "execution_count": 73,
   "id": "e41026e8",
   "metadata": {},
   "outputs": [
    {
     "name": "stdout",
     "output_type": "stream",
     "text": [
      "unsorted array: [5.-6.j 3.+4.j 7.+3.j 1.+2.j 3.+2.j]\n",
      "sorted array: [1.+2.j 3.+2.j 3.+4.j 5.-6.j 7.+3.j]\n"
     ]
    }
   ],
   "source": [
    "comp=np.array([ 5-6j, 3+4j, 7+3j,1+2j, 3+2j])\n",
    "print(f\"unsorted array: {comp}\")\n",
    "sor=np.sort_complex(comp)\n",
    "print(f\"sorted array: {sor}\")"
   ]
  },
  {
   "cell_type": "code",
   "execution_count": null,
   "id": "ce013210",
   "metadata": {},
   "outputs": [
    {
     "name": "stdout",
     "output_type": "stream",
     "text": [
      "[1 2 3 0 5 1 0 9 2 8]\n",
      "[5 9 8]\n"
     ]
    }
   ],
   "source": [
    "new=np.random.randint(0,10,10)\n",
    "print(new)\n",
    "gt=np.where(new>4)\n",
    "for i in gt:\n",
    "    print(new[i])"
   ]
  },
  {
   "cell_type": "code",
   "execution_count": null,
   "id": "860b7d1e",
   "metadata": {},
   "outputs": [
    {
     "name": "stdout",
     "output_type": "stream",
     "text": [
      "[5 9 6 6 0]\n",
      "Element is found at the index: [2 3]\n"
     ]
    }
   ],
   "source": [
    "d=np.random.randint(0,10,5)\n",
    "item=int(input(\"Enter the element to search: \"))\n",
    "index=np.where(d==item)\n",
    "print(d)\n",
    "if index[0].size==0:\n",
    "    print(\"Element is not in the array\")\n",
    "else:\n",
    "    print(f\"Element is found at the index: {index[0]}\")"
   ]
  },
  {
   "cell_type": "code",
   "execution_count": 76,
   "id": "c2f24e14",
   "metadata": {},
   "outputs": [],
   "source": [
    "z=np.random.randint(0,10,10)\n",
    "done=np.savetxt(\"newfile.txt\",z)\n",
    "if done:\n",
    "    print(\"success\")"
   ]
  },
  {
   "cell_type": "code",
   "execution_count": 63,
   "id": "b73e60eb",
   "metadata": {},
   "outputs": [
    {
     "name": "stdout",
     "output_type": "stream",
     "text": [
      "[30 32 34 36 38 40 42 44 46 48 50 52 54 56 58 60]\n"
     ]
    }
   ],
   "source": [
    "ev=np.arange(30,61,2)\n",
    "print(ev)"
   ]
  },
  {
   "cell_type": "code",
   "execution_count": 72,
   "id": "e26e9644",
   "metadata": {},
   "outputs": [
    {
     "name": "stdout",
     "output_type": "stream",
     "text": [
      "array:  [[3 7 4 9]\n",
      " [3 5 5 3]\n",
      " [1 5 2 7]]\n",
      "sum is:  54\n",
      "sum of columns:  [ 7 17 11 19]\n",
      "sum of rows:  [23 16 15]\n"
     ]
    }
   ],
   "source": [
    "dim1,dim2=map(int, input(\"Enter the dimensions of the array: \").split())\n",
    "y=np.random.randint(0,10,size=(dim1,dim2))\n",
    "print(\"array: \",y)\n",
    "print(\"sum is: \", np.sum(y))\n",
    "print(\"sum of columns: \",np.sum(y, axis=0))\n",
    "print(\"sum of rows: \", np.sum(y, axis=1))"
   ]
  },
  {
   "cell_type": "code",
   "execution_count": null,
   "id": "e2cccc95",
   "metadata": {},
   "outputs": [],
   "source": []
  }
 ],
 "metadata": {
  "kernelspec": {
   "display_name": "base",
   "language": "python",
   "name": "python3"
  },
  "language_info": {
   "codemirror_mode": {
    "name": "ipython",
    "version": 3
   },
   "file_extension": ".py",
   "mimetype": "text/x-python",
   "name": "python",
   "nbconvert_exporter": "python",
   "pygments_lexer": "ipython3",
   "version": "3.12.4"
  }
 },
 "nbformat": 4,
 "nbformat_minor": 5
}
