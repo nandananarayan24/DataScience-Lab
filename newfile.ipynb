{
 "cells": [
  {
   "cell_type": "markdown",
   "id": "fd572857",
   "metadata": {},
   "source": [
    "We are importing numpy"
   ]
  },
  {
   "cell_type": "code",
   "execution_count": 1,
   "id": "e71207cd",
   "metadata": {},
   "outputs": [],
   "source": [
    "import numpy as np\n",
    "\n"
   ]
  },
  {
   "cell_type": "markdown",
   "id": "bee8102f",
   "metadata": {},
   "source": [
    " tuple to numpy array"
   ]
  },
  {
   "cell_type": "code",
   "execution_count": 1,
   "id": "080c63c8",
   "metadata": {},
   "outputs": [
    {
     "name": "stdout",
     "output_type": "stream",
     "text": [
      "<class 'tuple'>\n"
     ]
    },
    {
     "ename": "NameError",
     "evalue": "name 'np' is not defined",
     "output_type": "error",
     "traceback": [
      "\u001b[31m---------------------------------------------------------------------------\u001b[39m",
      "\u001b[31mNameError\u001b[39m                                 Traceback (most recent call last)",
      "\u001b[36mCell\u001b[39m\u001b[36m \u001b[39m\u001b[32mIn[1]\u001b[39m\u001b[32m, line 4\u001b[39m\n\u001b[32m      1\u001b[39m a=(\u001b[32m1\u001b[39m,\u001b[32m2\u001b[39m,\u001b[32m3\u001b[39m,\u001b[32m4\u001b[39m)\n\u001b[32m      2\u001b[39m \u001b[38;5;28mprint\u001b[39m(\u001b[38;5;28mtype\u001b[39m(a))\n\u001b[32m----> \u001b[39m\u001b[32m4\u001b[39m b=\u001b[43mnp\u001b[49m.array(a)\n\u001b[32m      5\u001b[39m \u001b[38;5;28mprint\u001b[39m(b)\n\u001b[32m      6\u001b[39m \u001b[38;5;28mtype\u001b[39m(b)\n",
      "\u001b[31mNameError\u001b[39m: name 'np' is not defined"
     ]
    }
   ],
   "source": [
    "a=(1,2,3,4)\n",
    "print(type(a))\n",
    "\n",
    "b=np.array(a)\n",
    "print(b)\n",
    "type(b)"
   ]
  },
  {
   "cell_type": "markdown",
   "id": "53d88c66",
   "metadata": {},
   "source": [
    "Arange"
   ]
  },
  {
   "cell_type": "code",
   "execution_count": null,
   "id": "434663bd",
   "metadata": {},
   "outputs": [
    {
     "name": "stdout",
     "output_type": "stream",
     "text": [
      "[0 1 2 3 4 5 6 7 8 9]\n",
      "[  2   4   6   8  10  12  14  16  18  20  22  24  26  28  30  32  34  36\n",
      "  38  40  42  44  46  48  50  52  54  56  58  60  62  64  66  68  70  72\n",
      "  74  76  78  80  82  84  86  88  90  92  94  96  98 100]\n",
      "[ 1  3  5  7  9 11 13 15 17 19 21 23 25 27 29 31 33 35 37 39 41 43 45 47\n",
      " 49 51 53 55 57 59 61 63 65 67 69 71 73 75 77 79 81 83 85 87 89 91 93 95\n",
      " 97 99]\n",
      "[ 9 11 13 15 17 19]\n",
      "[1 3 5 7 9]\n",
      "[81 83 85 87 89 91 93 95 97 99]\n",
      "[93 95 97]\n",
      "7\n",
      "[1 2 3 4 5 6 7 8 9]\n",
      "[1 2 3 4 5 6 7 8 9]\n",
      "z= [ 1  2  3  4 22  6  7  8  9]\n",
      "y= [ 1  2  3  4 22  6  7  8  9]\n",
      "z= [ 1  2  3  4 32  6  7  8  9]\n",
      "x= [ 1  2  3  4 22  6  7  8  9]\n"
     ]
    }
   ],
   "source": [
    "c=np.arange(10)\n",
    "print(c)\n",
    "\n",
    "c=np.arange(2,101,2)\n",
    "print(c)\n",
    "\n",
    "d=np.arange(1,100,2)\n",
    "print(d)\n",
    "\n",
    "print(d[4:10])\n",
    "\n",
    "print(d[:5])\n",
    "\n",
    "print(d[40:])\n",
    "\n",
    "print(d[-4:-1])\n",
    "\n",
    "print(d[3])\n",
    "\n",
    "\n"
   ]
  },
  {
   "cell_type": "markdown",
   "id": "214cd887",
   "metadata": {},
   "source": [
    "Zeros"
   ]
  },
  {
   "cell_type": "code",
   "execution_count": 18,
   "id": "a01dd01f",
   "metadata": {},
   "outputs": [
    {
     "name": "stdout",
     "output_type": "stream",
     "text": [
      "[0 0 0 0 0 0 0 0 0 0]\n",
      "[0. 0. 0. 0. 0. 0. 0. 0. 0. 0.]\n"
     ]
    }
   ],
   "source": [
    "e=np.zeros(10,int)\n",
    "print(e)\n",
    "e=np.zeros(10)\n",
    "print(e)"
   ]
  },
  {
   "cell_type": "markdown",
   "id": "e4ab0a44",
   "metadata": {},
   "source": [
    "Ones"
   ]
  },
  {
   "cell_type": "code",
   "execution_count": 19,
   "id": "e0b8daed",
   "metadata": {},
   "outputs": [
    {
     "name": "stdout",
     "output_type": "stream",
     "text": [
      "[1 1 1 1 1 1 1 1 1 1]\n"
     ]
    },
    {
     "data": {
      "text/plain": [
       "array([[1, 1, 1],\n",
       "       [1, 1, 1],\n",
       "       [1, 1, 1]])"
      ]
     },
     "execution_count": 19,
     "metadata": {},
     "output_type": "execute_result"
    }
   ],
   "source": [
    "f=np.ones(10,int)\n",
    "print(f)\n",
    "f=np.ones((3,3),int)\n",
    "f"
   ]
  },
  {
   "cell_type": "markdown",
   "id": "7d739ba5",
   "metadata": {},
   "source": [
    "Matrix"
   ]
  },
  {
   "cell_type": "code",
   "execution_count": 22,
   "id": "eb6c7fb9",
   "metadata": {},
   "outputs": [
    {
     "name": "stdout",
     "output_type": "stream",
     "text": [
      "[[1 2 3]\n",
      " [4 5 6]\n",
      " [6 7 8]]\n"
     ]
    }
   ],
   "source": [
    "g=np.array([[1,2,3],[4,5,6],[6,7,8]])\n",
    "print(g)"
   ]
  },
  {
   "cell_type": "markdown",
   "id": "53d6b1e5",
   "metadata": {},
   "source": [
    "Eye and Identity matrix"
   ]
  },
  {
   "cell_type": "code",
   "execution_count": 35,
   "id": "698d4f9a",
   "metadata": {},
   "outputs": [
    {
     "name": "stdout",
     "output_type": "stream",
     "text": [
      "[[1 0 0]\n",
      " [0 1 0]\n",
      " [0 0 1]]\n",
      "[[1 0 0 0]\n",
      " [0 1 0 0]\n",
      " [0 0 1 0]\n",
      " [0 0 0 1]]\n"
     ]
    }
   ],
   "source": [
    "h=np.eye(3,dtype=int)\n",
    "print(h)\n",
    "h=np.identity(4,dtype=int)\n",
    "print(h)"
   ]
  },
  {
   "cell_type": "markdown",
   "id": "65dec84a",
   "metadata": {},
   "source": [
    "Copy()"
   ]
  },
  {
   "cell_type": "code",
   "execution_count": null,
   "id": "18d78721",
   "metadata": {},
   "outputs": [],
   "source": [
    "z=np.arange(1,10)\n",
    "print(z)\n",
    "\n",
    "y=z\n",
    "print(y)\n",
    "z[4]=22\n",
    "print(\"z=\",z)\n",
    "print(\"y=\",y)\n",
    "\n",
    "x=z.copy()\n",
    "z[4]=32\n",
    "print(\"z=\",z)\n",
    "print(\"x=\",x)"
   ]
  },
  {
   "cell_type": "markdown",
   "id": "7baf2f36",
   "metadata": {},
   "source": [
    "Concat"
   ]
  },
  {
   "cell_type": "code",
   "execution_count": 59,
   "id": "f195640e",
   "metadata": {},
   "outputs": [
    {
     "name": "stdout",
     "output_type": "stream",
     "text": [
      "[[1 2 5 6]\n",
      " [3 4 7 8]]\n"
     ]
    }
   ],
   "source": [
    "i=np.array([[1,2],[3,4]])\n",
    "j=np.array([[5,6],[7,8]])\n",
    "k=np.concatenate((i,j),axis=1)\n",
    "print(k)"
   ]
  },
  {
   "cell_type": "code",
   "execution_count": 65,
   "id": "05b6f383",
   "metadata": {},
   "outputs": [
    {
     "name": "stdout",
     "output_type": "stream",
     "text": [
      "number found at  5\n",
      "[5]\n",
      "element is fount at  5\n"
     ]
    }
   ],
   "source": [
    "l=np.array([1,2,3,4,5,6,7,8])\n",
    "m=np.where(l==6)\n",
    "\n",
    "if 0 in m[0]:\n",
    "    print(\"number not found\")\n",
    "else:\n",
    "    print(\"number found at \",*m[0])\n",
    "\n",
    "print(m[0])\n",
    "\n",
    "#without brackets : \n",
    "print(\"element is fount at \",*m[0])\n",
    "\n"
   ]
  }
 ],
 "metadata": {
  "kernelspec": {
   "display_name": "base",
   "language": "python",
   "name": "python3"
  },
  "language_info": {
   "codemirror_mode": {
    "name": "ipython",
    "version": 3
   },
   "file_extension": ".py",
   "mimetype": "text/x-python",
   "name": "python",
   "nbconvert_exporter": "python",
   "pygments_lexer": "ipython3",
   "version": "3.12.4"
  }
 },
 "nbformat": 4,
 "nbformat_minor": 5
}
